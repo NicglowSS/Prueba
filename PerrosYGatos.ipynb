{
  "nbformat": 4,
  "nbformat_minor": 0,
  "metadata": {
    "colab": {
      "provenance": []
    },
    "kernelspec": {
      "name": "python3",
      "display_name": "Python 3"
    },
    "language_info": {
      "name": "python"
    }
  },
  "cells": [
    {
      "cell_type": "code",
      "source": [
        "%pip install comet_ml # libreria a instalar"
      ],
      "metadata": {
        "id": "oJpXWhxfVU73",
        "colab": {
          "base_uri": "https://localhost:8080/"
        },
        "outputId": "577f1044-7048-44c8-e508-62344eabf396"
      },
      "execution_count": null,
      "outputs": [
        {
          "output_type": "stream",
          "name": "stdout",
          "text": [
            "Collecting comet_ml\n",
            "  Downloading comet_ml-3.35.3-py3-none-any.whl (586 kB)\n",
            "\u001b[2K     \u001b[90m━━━━━━━━━━━━━━━━━━━━━━━━━━━━━━━━━━━━━━━━\u001b[0m \u001b[32m586.4/586.4 kB\u001b[0m \u001b[31m4.9 MB/s\u001b[0m eta \u001b[36m0:00:00\u001b[0m\n",
            "\u001b[?25hRequirement already satisfied: jsonschema!=3.1.0,>=2.6.0 in /usr/local/lib/python3.10/dist-packages (from comet_ml) (4.19.2)\n",
            "Requirement already satisfied: psutil>=5.6.3 in /usr/local/lib/python3.10/dist-packages (from comet_ml) (5.9.5)\n",
            "Collecting python-box<7.0.0 (from comet_ml)\n",
            "  Downloading python_box-6.1.0-cp310-cp310-manylinux_2_17_x86_64.manylinux2014_x86_64.whl (3.3 MB)\n",
            "\u001b[2K     \u001b[90m━━━━━━━━━━━━━━━━━━━━━━━━━━━━━━━━━━━━━━━━\u001b[0m \u001b[32m3.3/3.3 MB\u001b[0m \u001b[31m41.8 MB/s\u001b[0m eta \u001b[36m0:00:00\u001b[0m\n",
            "\u001b[?25hCollecting requests-toolbelt>=0.8.0 (from comet_ml)\n",
            "  Downloading requests_toolbelt-1.0.0-py2.py3-none-any.whl (54 kB)\n",
            "\u001b[2K     \u001b[90m━━━━━━━━━━━━━━━━━━━━━━━━━━━━━━━━━━━━━━━━\u001b[0m \u001b[32m54.5/54.5 kB\u001b[0m \u001b[31m6.5 MB/s\u001b[0m eta \u001b[36m0:00:00\u001b[0m\n",
            "\u001b[?25hRequirement already satisfied: requests>=2.18.4 in /usr/local/lib/python3.10/dist-packages (from comet_ml) (2.31.0)\n",
            "Collecting semantic-version>=2.8.0 (from comet_ml)\n",
            "  Downloading semantic_version-2.10.0-py2.py3-none-any.whl (15 kB)\n",
            "Collecting sentry-sdk>=1.1.0 (from comet_ml)\n",
            "  Downloading sentry_sdk-1.38.0-py2.py3-none-any.whl (252 kB)\n",
            "\u001b[2K     \u001b[90m━━━━━━━━━━━━━━━━━━━━━━━━━━━━━━━━━━━━━━━━\u001b[0m \u001b[32m252.8/252.8 kB\u001b[0m \u001b[31m28.1 MB/s\u001b[0m eta \u001b[36m0:00:00\u001b[0m\n",
            "\u001b[?25hCollecting simplejson (from comet_ml)\n",
            "  Downloading simplejson-3.19.2-cp310-cp310-manylinux_2_5_x86_64.manylinux1_x86_64.manylinux_2_17_x86_64.manylinux2014_x86_64.whl (137 kB)\n",
            "\u001b[2K     \u001b[90m━━━━━━━━━━━━━━━━━━━━━━━━━━━━━━━━━━━━━━━━\u001b[0m \u001b[32m137.9/137.9 kB\u001b[0m \u001b[31m16.5 MB/s\u001b[0m eta \u001b[36m0:00:00\u001b[0m\n",
            "\u001b[?25hRequirement already satisfied: six in /usr/local/lib/python3.10/dist-packages (from comet_ml) (1.16.0)\n",
            "Requirement already satisfied: urllib3>=1.21.1 in /usr/local/lib/python3.10/dist-packages (from comet_ml) (2.0.7)\n",
            "Collecting websocket-client<1.4.0,>=0.55.0 (from comet_ml)\n",
            "  Downloading websocket_client-1.3.3-py3-none-any.whl (54 kB)\n",
            "\u001b[2K     \u001b[90m━━━━━━━━━━━━━━━━━━━━━━━━━━━━━━━━━━━━━━━━\u001b[0m \u001b[32m54.3/54.3 kB\u001b[0m \u001b[31m6.4 MB/s\u001b[0m eta \u001b[36m0:00:00\u001b[0m\n",
            "\u001b[?25hRequirement already satisfied: wrapt>=1.11.2 in /usr/local/lib/python3.10/dist-packages (from comet_ml) (1.14.1)\n",
            "Collecting wurlitzer>=1.0.2 (from comet_ml)\n",
            "  Downloading wurlitzer-3.0.3-py3-none-any.whl (7.3 kB)\n",
            "Collecting everett[ini]<3.2.0,>=1.0.1 (from comet_ml)\n",
            "  Downloading everett-3.1.0-py2.py3-none-any.whl (35 kB)\n",
            "Collecting dulwich!=0.20.33,>=0.20.6 (from comet_ml)\n",
            "  Downloading dulwich-0.21.6-cp310-cp310-manylinux_2_17_x86_64.manylinux2014_x86_64.whl (512 kB)\n",
            "\u001b[2K     \u001b[90m━━━━━━━━━━━━━━━━━━━━━━━━━━━━━━━━━━━━━━━━\u001b[0m \u001b[32m512.2/512.2 kB\u001b[0m \u001b[31m37.1 MB/s\u001b[0m eta \u001b[36m0:00:00\u001b[0m\n",
            "\u001b[?25hRequirement already satisfied: rich>=13.3.2 in /usr/local/lib/python3.10/dist-packages (from comet_ml) (13.7.0)\n",
            "Collecting configobj (from everett[ini]<3.2.0,>=1.0.1->comet_ml)\n",
            "  Downloading configobj-5.0.8-py2.py3-none-any.whl (36 kB)\n",
            "Requirement already satisfied: attrs>=22.2.0 in /usr/local/lib/python3.10/dist-packages (from jsonschema!=3.1.0,>=2.6.0->comet_ml) (23.1.0)\n",
            "Requirement already satisfied: jsonschema-specifications>=2023.03.6 in /usr/local/lib/python3.10/dist-packages (from jsonschema!=3.1.0,>=2.6.0->comet_ml) (2023.11.1)\n",
            "Requirement already satisfied: referencing>=0.28.4 in /usr/local/lib/python3.10/dist-packages (from jsonschema!=3.1.0,>=2.6.0->comet_ml) (0.31.1)\n",
            "Requirement already satisfied: rpds-py>=0.7.1 in /usr/local/lib/python3.10/dist-packages (from jsonschema!=3.1.0,>=2.6.0->comet_ml) (0.13.2)\n",
            "Requirement already satisfied: charset-normalizer<4,>=2 in /usr/local/lib/python3.10/dist-packages (from requests>=2.18.4->comet_ml) (3.3.2)\n",
            "Requirement already satisfied: idna<4,>=2.5 in /usr/local/lib/python3.10/dist-packages (from requests>=2.18.4->comet_ml) (3.6)\n",
            "Requirement already satisfied: certifi>=2017.4.17 in /usr/local/lib/python3.10/dist-packages (from requests>=2.18.4->comet_ml) (2023.11.17)\n",
            "Requirement already satisfied: markdown-it-py>=2.2.0 in /usr/local/lib/python3.10/dist-packages (from rich>=13.3.2->comet_ml) (3.0.0)\n",
            "Requirement already satisfied: pygments<3.0.0,>=2.13.0 in /usr/local/lib/python3.10/dist-packages (from rich>=13.3.2->comet_ml) (2.16.1)\n",
            "Requirement already satisfied: mdurl~=0.1 in /usr/local/lib/python3.10/dist-packages (from markdown-it-py>=2.2.0->rich>=13.3.2->comet_ml) (0.1.2)\n",
            "Installing collected packages: everett, wurlitzer, websocket-client, simplejson, sentry-sdk, semantic-version, python-box, dulwich, configobj, requests-toolbelt, comet_ml\n",
            "  Attempting uninstall: websocket-client\n",
            "    Found existing installation: websocket-client 1.6.4\n",
            "    Uninstalling websocket-client-1.6.4:\n",
            "      Successfully uninstalled websocket-client-1.6.4\n",
            "  Attempting uninstall: python-box\n",
            "    Found existing installation: python-box 7.1.1\n",
            "    Uninstalling python-box-7.1.1:\n",
            "      Successfully uninstalled python-box-7.1.1\n",
            "Successfully installed comet_ml-3.35.3 configobj-5.0.8 dulwich-0.21.6 everett-3.1.0 python-box-6.1.0 requests-toolbelt-1.0.0 semantic-version-2.10.0 sentry-sdk-1.38.0 simplejson-3.19.2 websocket-client-1.3.3 wurlitzer-3.0.3\n"
          ]
        }
      ]
    },
    {
      "cell_type": "code",
      "source": [
        "%pip install dvc # Libreria para cargar DVC"
      ],
      "metadata": {
        "id": "hgmICR38iaAd",
        "colab": {
          "base_uri": "https://localhost:8080/"
        },
        "outputId": "f9255617-f454-444b-f4ae-437cb1005b33"
      },
      "execution_count": null,
      "outputs": [
        {
          "output_type": "stream",
          "name": "stdout",
          "text": [
            "Requirement already satisfied: dvc in /usr/local/lib/python3.10/dist-packages (3.30.3)\n",
            "Requirement already satisfied: colorama>=0.3.9 in /usr/local/lib/python3.10/dist-packages (from dvc) (0.4.6)\n",
            "Requirement already satisfied: configobj>=5.0.6 in /usr/local/lib/python3.10/dist-packages (from dvc) (5.0.8)\n",
            "Requirement already satisfied: distro>=1.3 in /usr/lib/python3/dist-packages (from dvc) (1.7.0)\n",
            "Requirement already satisfied: dpath<3,>=2.1.0 in /usr/local/lib/python3.10/dist-packages (from dvc) (2.1.6)\n",
            "Requirement already satisfied: dvc-data<2.23.0,>=2.22.1 in /usr/local/lib/python3.10/dist-packages (from dvc) (2.22.3)\n",
            "Requirement already satisfied: dvc-http>=2.29.0 in /usr/local/lib/python3.10/dist-packages (from dvc) (2.30.2)\n",
            "Requirement already satisfied: dvc-render<1,>=0.3.1 in /usr/local/lib/python3.10/dist-packages (from dvc) (0.6.0)\n",
            "Requirement already satisfied: dvc-studio-client<1,>=0.13.0 in /usr/local/lib/python3.10/dist-packages (from dvc) (0.17.0)\n",
            "Requirement already satisfied: dvc-task<1,>=0.3.0 in /usr/local/lib/python3.10/dist-packages (from dvc) (0.3.0)\n",
            "Requirement already satisfied: flatten-dict<1,>=0.4.1 in /usr/local/lib/python3.10/dist-packages (from dvc) (0.4.2)\n",
            "Requirement already satisfied: flufl.lock<8,>=5 in /usr/local/lib/python3.10/dist-packages (from dvc) (7.1.1)\n",
            "Requirement already satisfied: funcy>=1.14 in /usr/local/lib/python3.10/dist-packages (from dvc) (2.0)\n",
            "Requirement already satisfied: grandalf<1,>=0.7 in /usr/local/lib/python3.10/dist-packages (from dvc) (0.8)\n",
            "Requirement already satisfied: gto<2,>=1.4.0 in /usr/local/lib/python3.10/dist-packages (from dvc) (1.5.0)\n",
            "Requirement already satisfied: hydra-core>=1.1 in /usr/local/lib/python3.10/dist-packages (from dvc) (1.3.2)\n",
            "Requirement already satisfied: iterative-telemetry>=0.0.7 in /usr/local/lib/python3.10/dist-packages (from dvc) (0.0.8)\n",
            "Requirement already satisfied: networkx>=2.5 in /usr/local/lib/python3.10/dist-packages (from dvc) (3.2.1)\n",
            "Requirement already satisfied: packaging>=19 in /usr/local/lib/python3.10/dist-packages (from dvc) (23.2)\n",
            "Requirement already satisfied: pathspec>=0.10.3 in /usr/local/lib/python3.10/dist-packages (from dvc) (0.11.2)\n",
            "Requirement already satisfied: platformdirs<4,>=3.1.1 in /usr/local/lib/python3.10/dist-packages (from dvc) (3.11.0)\n",
            "Requirement already satisfied: psutil>=5.8 in /usr/local/lib/python3.10/dist-packages (from dvc) (5.9.5)\n",
            "Requirement already satisfied: pydot>=1.2.4 in /usr/local/lib/python3.10/dist-packages (from dvc) (1.4.2)\n",
            "Requirement already satisfied: pygtrie>=2.3.2 in /usr/local/lib/python3.10/dist-packages (from dvc) (2.5.0)\n",
            "Requirement already satisfied: pyparsing>=2.4.7 in /usr/local/lib/python3.10/dist-packages (from dvc) (3.1.1)\n",
            "Requirement already satisfied: requests>=2.22 in /usr/local/lib/python3.10/dist-packages (from dvc) (2.31.0)\n",
            "Requirement already satisfied: rich>=12 in /usr/local/lib/python3.10/dist-packages (from dvc) (13.7.0)\n",
            "Requirement already satisfied: ruamel.yaml>=0.17.11 in /usr/local/lib/python3.10/dist-packages (from dvc) (0.18.5)\n",
            "Requirement already satisfied: scmrepo<2,>=1.4.1 in /usr/local/lib/python3.10/dist-packages (from dvc) (1.5.0)\n",
            "Requirement already satisfied: shortuuid>=0.5 in /usr/local/lib/python3.10/dist-packages (from dvc) (1.0.11)\n",
            "Requirement already satisfied: shtab<2,>=1.3.4 in /usr/local/lib/python3.10/dist-packages (from dvc) (1.6.5)\n",
            "Requirement already satisfied: tabulate>=0.8.7 in /usr/local/lib/python3.10/dist-packages (from dvc) (0.9.0)\n",
            "Requirement already satisfied: tomlkit>=0.11.1 in /usr/local/lib/python3.10/dist-packages (from dvc) (0.12.3)\n",
            "Requirement already satisfied: tqdm<5,>=4.63.1 in /usr/local/lib/python3.10/dist-packages (from dvc) (4.66.1)\n",
            "Requirement already satisfied: voluptuous>=0.11.7 in /usr/local/lib/python3.10/dist-packages (from dvc) (0.14.1)\n",
            "Requirement already satisfied: zc.lockfile>=1.2.1 in /usr/local/lib/python3.10/dist-packages (from dvc) (3.0.post1)\n",
            "Requirement already satisfied: six in /usr/local/lib/python3.10/dist-packages (from configobj>=5.0.6->dvc) (1.16.0)\n",
            "Requirement already satisfied: dictdiffer>=0.8.1 in /usr/local/lib/python3.10/dist-packages (from dvc-data<2.23.0,>=2.22.1->dvc) (0.9.0)\n",
            "Requirement already satisfied: dvc-objects<2,>=1.1.0 in /usr/local/lib/python3.10/dist-packages (from dvc-data<2.23.0,>=2.22.1->dvc) (1.3.2)\n",
            "Requirement already satisfied: diskcache>=5.2.1 in /usr/local/lib/python3.10/dist-packages (from dvc-data<2.23.0,>=2.22.1->dvc) (5.6.3)\n",
            "Requirement already satisfied: attrs>=21.3.0 in /usr/local/lib/python3.10/dist-packages (from dvc-data<2.23.0,>=2.22.1->dvc) (23.1.0)\n",
            "Requirement already satisfied: sqltrie<1,>=0.9.0 in /usr/local/lib/python3.10/dist-packages (from dvc-data<2.23.0,>=2.22.1->dvc) (0.9.0)\n",
            "Requirement already satisfied: fsspec[http] in /usr/local/lib/python3.10/dist-packages (from dvc-http>=2.29.0->dvc) (2023.6.0)\n",
            "Requirement already satisfied: aiohttp-retry>=2.5.0 in /usr/local/lib/python3.10/dist-packages (from dvc-http>=2.29.0->dvc) (2.8.3)\n",
            "Requirement already satisfied: dulwich in /usr/local/lib/python3.10/dist-packages (from dvc-studio-client<1,>=0.13.0->dvc) (0.21.6)\n",
            "Requirement already satisfied: celery<6,>=5.3.0 in /usr/local/lib/python3.10/dist-packages (from dvc-task<1,>=0.3.0->dvc) (5.3.6)\n",
            "Requirement already satisfied: kombu<6,>=5.3.0 in /usr/local/lib/python3.10/dist-packages (from dvc-task<1,>=0.3.0->dvc) (5.3.4)\n",
            "Requirement already satisfied: atpublic>=2.3 in /usr/local/lib/python3.10/dist-packages (from flufl.lock<8,>=5->dvc) (4.0)\n",
            "Requirement already satisfied: typer>=0.4.1 in /usr/local/lib/python3.10/dist-packages (from gto<2,>=1.4.0->dvc) (0.9.0)\n",
            "Requirement already satisfied: pydantic!=2.0.0,<3,>=1.9.0 in /usr/local/lib/python3.10/dist-packages (from gto<2,>=1.4.0->dvc) (1.10.13)\n",
            "Requirement already satisfied: semver>=3.0.0 in /usr/local/lib/python3.10/dist-packages (from gto<2,>=1.4.0->dvc) (3.0.2)\n",
            "Requirement already satisfied: entrypoints in /usr/local/lib/python3.10/dist-packages (from gto<2,>=1.4.0->dvc) (0.4)\n",
            "Requirement already satisfied: omegaconf<2.4,>=2.2 in /usr/local/lib/python3.10/dist-packages (from hydra-core>=1.1->dvc) (2.3.0)\n",
            "Requirement already satisfied: antlr4-python3-runtime==4.9.* in /usr/local/lib/python3.10/dist-packages (from hydra-core>=1.1->dvc) (4.9.3)\n",
            "Requirement already satisfied: appdirs in /usr/local/lib/python3.10/dist-packages (from iterative-telemetry>=0.0.7->dvc) (1.4.4)\n",
            "Requirement already satisfied: filelock in /usr/local/lib/python3.10/dist-packages (from iterative-telemetry>=0.0.7->dvc) (3.13.1)\n",
            "Requirement already satisfied: charset-normalizer<4,>=2 in /usr/local/lib/python3.10/dist-packages (from requests>=2.22->dvc) (3.3.2)\n",
            "Requirement already satisfied: idna<4,>=2.5 in /usr/local/lib/python3.10/dist-packages (from requests>=2.22->dvc) (3.6)\n",
            "Requirement already satisfied: urllib3<3,>=1.21.1 in /usr/local/lib/python3.10/dist-packages (from requests>=2.22->dvc) (2.0.7)\n",
            "Requirement already satisfied: certifi>=2017.4.17 in /usr/local/lib/python3.10/dist-packages (from requests>=2.22->dvc) (2023.11.17)\n",
            "Requirement already satisfied: markdown-it-py>=2.2.0 in /usr/local/lib/python3.10/dist-packages (from rich>=12->dvc) (3.0.0)\n",
            "Requirement already satisfied: pygments<3.0.0,>=2.13.0 in /usr/local/lib/python3.10/dist-packages (from rich>=12->dvc) (2.16.1)\n",
            "Requirement already satisfied: ruamel.yaml.clib>=0.2.7 in /usr/local/lib/python3.10/dist-packages (from ruamel.yaml>=0.17.11->dvc) (0.2.8)\n",
            "Requirement already satisfied: gitpython>3 in /usr/local/lib/python3.10/dist-packages (from scmrepo<2,>=1.4.1->dvc) (3.1.40)\n",
            "Requirement already satisfied: pygit2>=1.13.3 in /usr/local/lib/python3.10/dist-packages (from scmrepo<2,>=1.4.1->dvc) (1.13.3)\n",
            "Requirement already satisfied: asyncssh<3,>=2.13.1 in /usr/local/lib/python3.10/dist-packages (from scmrepo<2,>=1.4.1->dvc) (2.14.1)\n",
            "Requirement already satisfied: setuptools in /usr/local/lib/python3.10/dist-packages (from zc.lockfile>=1.2.1->dvc) (67.7.2)\n",
            "Requirement already satisfied: aiohttp in /usr/local/lib/python3.10/dist-packages (from aiohttp-retry>=2.5.0->dvc-http>=2.29.0->dvc) (3.9.1)\n",
            "Requirement already satisfied: cryptography>=39.0 in /usr/local/lib/python3.10/dist-packages (from asyncssh<3,>=2.13.1->scmrepo<2,>=1.4.1->dvc) (41.0.7)\n",
            "Requirement already satisfied: typing-extensions>=3.6 in /usr/local/lib/python3.10/dist-packages (from asyncssh<3,>=2.13.1->scmrepo<2,>=1.4.1->dvc) (4.5.0)\n",
            "Requirement already satisfied: billiard<5.0,>=4.2.0 in /usr/local/lib/python3.10/dist-packages (from celery<6,>=5.3.0->dvc-task<1,>=0.3.0->dvc) (4.2.0)\n",
            "Requirement already satisfied: click-didyoumean>=0.3.0 in /usr/local/lib/python3.10/dist-packages (from celery<6,>=5.3.0->dvc-task<1,>=0.3.0->dvc) (0.3.0)\n",
            "Requirement already satisfied: click-plugins>=1.1.1 in /usr/local/lib/python3.10/dist-packages (from celery<6,>=5.3.0->dvc-task<1,>=0.3.0->dvc) (1.1.1)\n",
            "Requirement already satisfied: click-repl>=0.2.0 in /usr/local/lib/python3.10/dist-packages (from celery<6,>=5.3.0->dvc-task<1,>=0.3.0->dvc) (0.3.0)\n",
            "Requirement already satisfied: click<9.0,>=8.1.2 in /usr/local/lib/python3.10/dist-packages (from celery<6,>=5.3.0->dvc-task<1,>=0.3.0->dvc) (8.1.7)\n",
            "Requirement already satisfied: python-dateutil>=2.8.2 in /usr/local/lib/python3.10/dist-packages (from celery<6,>=5.3.0->dvc-task<1,>=0.3.0->dvc) (2.8.2)\n",
            "Requirement already satisfied: tzdata>=2022.7 in /usr/local/lib/python3.10/dist-packages (from celery<6,>=5.3.0->dvc-task<1,>=0.3.0->dvc) (2023.3)\n",
            "Requirement already satisfied: vine<6.0,>=5.1.0 in /usr/local/lib/python3.10/dist-packages (from celery<6,>=5.3.0->dvc-task<1,>=0.3.0->dvc) (5.1.0)\n",
            "Requirement already satisfied: gitdb<5,>=4.0.1 in /usr/local/lib/python3.10/dist-packages (from gitpython>3->scmrepo<2,>=1.4.1->dvc) (4.0.11)\n",
            "Requirement already satisfied: amqp<6.0.0,>=5.1.1 in /usr/local/lib/python3.10/dist-packages (from kombu<6,>=5.3.0->dvc-task<1,>=0.3.0->dvc) (5.2.0)\n",
            "Requirement already satisfied: mdurl~=0.1 in /usr/local/lib/python3.10/dist-packages (from markdown-it-py>=2.2.0->rich>=12->dvc) (0.1.2)\n",
            "Requirement already satisfied: PyYAML>=5.1.0 in /usr/local/lib/python3.10/dist-packages (from omegaconf<2.4,>=2.2->hydra-core>=1.1->dvc) (6.0.1)\n",
            "Requirement already satisfied: cffi>=1.16.0 in /usr/local/lib/python3.10/dist-packages (from pygit2>=1.13.3->scmrepo<2,>=1.4.1->dvc) (1.16.0)\n",
            "Requirement already satisfied: orjson in /usr/local/lib/python3.10/dist-packages (from sqltrie<1,>=0.9.0->dvc-data<2.23.0,>=2.22.1->dvc) (3.9.10)\n",
            "Requirement already satisfied: multidict<7.0,>=4.5 in /usr/local/lib/python3.10/dist-packages (from aiohttp->aiohttp-retry>=2.5.0->dvc-http>=2.29.0->dvc) (6.0.4)\n",
            "Requirement already satisfied: yarl<2.0,>=1.0 in /usr/local/lib/python3.10/dist-packages (from aiohttp->aiohttp-retry>=2.5.0->dvc-http>=2.29.0->dvc) (1.9.3)\n",
            "Requirement already satisfied: frozenlist>=1.1.1 in /usr/local/lib/python3.10/dist-packages (from aiohttp->aiohttp-retry>=2.5.0->dvc-http>=2.29.0->dvc) (1.4.0)\n",
            "Requirement already satisfied: aiosignal>=1.1.2 in /usr/local/lib/python3.10/dist-packages (from aiohttp->aiohttp-retry>=2.5.0->dvc-http>=2.29.0->dvc) (1.3.1)\n",
            "Requirement already satisfied: async-timeout<5.0,>=4.0 in /usr/local/lib/python3.10/dist-packages (from aiohttp->aiohttp-retry>=2.5.0->dvc-http>=2.29.0->dvc) (4.0.3)\n",
            "Requirement already satisfied: pycparser in /usr/local/lib/python3.10/dist-packages (from cffi>=1.16.0->pygit2>=1.13.3->scmrepo<2,>=1.4.1->dvc) (2.21)\n",
            "Requirement already satisfied: prompt-toolkit>=3.0.36 in /usr/local/lib/python3.10/dist-packages (from click-repl>=0.2.0->celery<6,>=5.3.0->dvc-task<1,>=0.3.0->dvc) (3.0.41)\n",
            "Requirement already satisfied: smmap<6,>=3.0.1 in /usr/local/lib/python3.10/dist-packages (from gitdb<5,>=4.0.1->gitpython>3->scmrepo<2,>=1.4.1->dvc) (5.0.1)\n",
            "Requirement already satisfied: wcwidth in /usr/local/lib/python3.10/dist-packages (from prompt-toolkit>=3.0.36->click-repl>=0.2.0->celery<6,>=5.3.0->dvc-task<1,>=0.3.0->dvc) (0.2.12)\n"
          ]
        }
      ]
    },
    {
      "cell_type": "code",
      "execution_count": null,
      "metadata": {
        "id": "pTsPGS4-OKSr",
        "colab": {
          "base_uri": "https://localhost:8080/"
        },
        "outputId": "57cba707-9581-436f-b347-59d5a0ce6bcf"
      },
      "outputs": [
        {
          "output_type": "stream",
          "name": "stdout",
          "text": [
            "Downloading DogsCats.zip:   0% 0/1 [00:00<?, ?files/s{'info': ''}] \n",
            "!\u001b[A\n",
            "  0%|          |https://dagshub.com/jorgevc/Gatos-y0.00/? [00:00<?,        ?B/s]\u001b[A\n",
            "  0%|          |https://dagshub.com/jorgevc/Gatos-y0.00/? [00:00<?,        ?B/s]\u001b[A\n",
            "  0%|          |https://dagshub.com/jorgevc/Gat319k/? [00:00<00:00,    3.25MB/s]\u001b[A\n",
            "  0%|          |https://dagshub.com/jorgevc/Ga1.70M/? [00:00<00:00,    9.54MB/s]\u001b[A\n",
            "  0%|          |https://dagshub.com/jorgevc/Ga4.42M/? [00:00<00:00,    17.8MB/s]\u001b[A\n",
            "  0%|          |https://dagshub.com/jorgevc/Ga7.15M/? [00:00<00:00,    20.1MB/s]\u001b[A\n",
            "  0%|          |https://dagshub.com/jorgevc/Ga9.36M/? [00:00<00:00,    20.4MB/s]\u001b[A\n",
            "  0%|          |https://dagshub.com/jorgevc/Ga14.8M/? [00:00<00:00,    32.0MB/s]\u001b[A\n",
            "  0%|          |https://dagshub.com/jorgevc/Ga21.0M/? [00:00<00:00,    42.2MB/s]\u001b[A\n",
            "  0%|          |https://dagshub.com/jorgevc/Ga29.5M/? [00:00<00:00,    56.0MB/s]\u001b[A\n",
            "  0%|          |https://dagshub.com/jorgevc/Ga33.4M/? [00:00<00:00,    51.5MB/s]\u001b[A\n",
            "  0%|          |https://dagshub.com/jorgevc/Ga37.1M/? [00:01<00:00,    47.4MB/s]\u001b[A\n",
            "  0%|          |https://dagshub.com/jorgevc/Ga43.1M/? [00:01<00:00,    51.7MB/s]\u001b[A\n",
            "  0%|          |https://dagshub.com/jorgevc/Ga49.8M/? [00:01<00:00,    56.9MB/s]\u001b[A\n",
            "  0%|          |https://dagshub.com/jorgevc/Ga57.2M/? [00:01<00:00,    62.7MB/s]\u001b[A\n",
            "  0%|          |https://dagshub.com/jorgevc/Ga60.2M/? [00:01<00:00,    53.2MB/s]\u001b[A\n",
            "  0%|          |https://dagshub.com/jorgevc/Ga65.1M/? [00:01<00:00,    47.6MB/s]\u001b[A\n",
            "  0%|          |https://dagshub.com/jorgevc/Ga68.1M/? [00:01<00:00,    42.5MB/s]\u001b[A\n",
            "  0%|          |https://dagshub.com/jorgevc/Ga72.6M/? [00:01<00:00,    43.5MB/s]\u001b[A\n",
            "  0%|          |https://dagshub.com/jorgevc/Ga77.0M/? [00:01<00:00,    43.6MB/s]\u001b[A\n",
            "  0%|          |https://dagshub.com/jorgevc/Ga80.8M/? [00:02<00:00,    41.7MB/s]\u001b[A\n",
            "  0%|          |https://dagshub.com/jorgevc/Ga85.0M/? [00:02<00:00,    42.1MB/s]\u001b[A\n",
            "  0%|          |https://dagshub.com/jorgevc/Ga89.0M/? [00:02<00:00,    42.0MB/s]\u001b[A\n",
            "  0%|          |https://dagshub.com/jorgevc/Ga97.4M/? [00:02<00:00,    55.3MB/s]\u001b[A\n",
            "  0%|          |https://dagshub.com/jorgevc/Gat105M/? [00:02<00:00,    61.1MB/s]\u001b[A\n",
            "  0%|          |https://dagshub.com/jorgevc/Gat110M/? [00:02<00:00,    58.4MB/s]\u001b[A\n",
            "  0%|          |https://dagshub.com/jorgevc/Gat112M/? [00:02<00:00,    48.0MB/s]\u001b[A\n",
            "  0%|          |https://dagshub.com/jorgevc/Gat117M/? [00:02<00:00,    48.2MB/s]\u001b[A\n",
            "  0%|          |https://dagshub.com/jorgevc/Gat125M/? [00:02<00:00,    58.3MB/s]\u001b[A\n",
            "  0%|          |https://dagshub.com/jorgevc/Gat133M/? [00:02<00:00,    65.2MB/s]\u001b[A\n",
            "  0%|          |https://dagshub.com/jorgevc/Gat136M/? [00:03<00:00,    54.1MB/s]\u001b[A\n",
            "  0%|          |https://dagshub.com/jorgevc/Gat142M/? [00:03<00:00,    58.5MB/s]\u001b[A\n",
            "  0%|          |https://dagshub.com/jorgevc/Gat151M/? [00:03<00:00,    66.4MB/s]\u001b[A\n",
            "  0%|          |https://dagshub.com/jorgevc/Gat155M/? [00:03<00:00,    60.4MB/s]\u001b[A\n",
            "  0%|          |https://dagshub.com/jorgevc/Gat158M/? [00:03<00:00,    51.8MB/s]\u001b[A\n",
            "  0%|          |https://dagshub.com/jorgevc/Gat164M/? [00:03<00:00,    52.2MB/s]\u001b[A\n",
            "  0%|          |https://dagshub.com/jorgevc/Gat166M/? [00:03<00:00,    44.8MB/s]\u001b[A\n",
            "  0%|          |https://dagshub.com/jorgevc/Gat174M/? [00:03<00:00,    56.0MB/s]\u001b[A\n",
            "  0%|          |https://dagshub.com/jorgevc/Gat183M/? [00:03<00:00,    65.6MB/s]\u001b[A\n",
            "  0%|          |https://dagshub.com/jorgevc/Gat188M/? [00:03<00:00,    63.5MB/s]\u001b[A\n",
            "  0%|          |https://dagshub.com/jorgevc/Gat197M/? [00:04<00:00,    72.1MB/s]\u001b[A\n",
            "  0%|          |https://dagshub.com/jorgevc/Gat204M/? [00:04<00:00,    70.3MB/s]\u001b[A\n",
            "  0%|          |https://dagshub.com/jorgevc/Gat210M/? [00:04<00:00,    67.4MB/s]\u001b[A\n",
            "  0%|          |https://dagshub.com/jorgevc/Gat219M/? [00:04<00:00,    74.9MB/s]\u001b[A\n",
            "  0%|          |https://dagshub.com/jorgevc/Gat224M/? [00:04<00:00,    69.3MB/s]\u001b[A\n",
            "  0%|          |https://dagshub.com/jorgevc/Gat230M/? [00:04<00:00,    64.7MB/s]\u001b[A\n",
            "  0%|          |https://dagshub.com/jorgevc/Gat232M/? [00:04<00:00,    51.4MB/s]\u001b[A\n",
            "  0%|          |https://dagshub.com/jorgevc/Gat234M/? [00:04<00:00,    42.2MB/s]\u001b[A\n",
            "  0%|          |https://dagshub.com/jorgevc/Gat238M/? [00:04<00:00,    43.5MB/s]\u001b[A\n",
            "  0%|          |https://dagshub.com/jorgevc/Gat242M/? [00:04<00:00,    41.8MB/s]\u001b[A\n",
            "  0%|          |https://dagshub.com/jorgevc/Gat248M/? [00:05<00:00,    48.4MB/s]\u001b[A\n",
            "  0%|          |https://dagshub.com/jorgevc/Gat253M/? [00:05<00:00,    49.4MB/s]\u001b[A\n",
            "  0%|          |https://dagshub.com/jorgevc/Gat256M/? [00:05<00:00,    43.7MB/s]\u001b[A\n",
            "  0%|          |https://dagshub.com/jorgevc/Gat259M/? [00:05<00:00,    39.3MB/s]\u001b[A\n",
            "  0%|          |https://dagshub.com/jorgevc/Gat266M/? [00:05<00:00,    50.4MB/s]\u001b[A\n",
            "  0%|          |https://dagshub.com/jorgevc/Gat269M/? [00:05<00:00,    43.4MB/s]\u001b[A\n",
            "  0%|          |https://dagshub.com/jorgevc/Gat271M/? [00:05<00:00,    36.5MB/s]\u001b[A\n",
            "  0%|          |https://dagshub.com/jorgevc/Gat274M/? [00:05<00:00,    33.2MB/s]\u001b[A\n",
            "  0%|          |https://dagshub.com/jorgevc/Gat283M/? [00:05<00:00,    50.7MB/s]\u001b[A\n",
            "  0%|          |https://dagshub.com/jorgevc/Gat291M/? [00:06<00:00,    63.0MB/s]\u001b[A\n",
            "  0%|          |https://dagshub.com/jorgevc/Gat298M/? [00:06<00:00,    65.5MB/s]\u001b[A\n",
            "  0%|          |https://dagshub.com/jorgevc/Gat307M/? [00:06<00:00,    72.0MB/s]\u001b[A\n",
            "  0%|          |https://dagshub.com/jorgevc/Gat316M/? [00:06<00:00,    80.5MB/s]\u001b[A\n",
            "  0%|          |https://dagshub.com/jorgevc/Gat324M/? [00:06<00:00,    81.6MB/s]\u001b[A\n",
            "  0%|          |https://dagshub.com/jorgevc/Gat333M/? [00:06<00:00,    83.2MB/s]\u001b[A\n",
            "  0%|          |https://dagshub.com/jorgevc/Gat342M/? [00:06<00:00,    86.8MB/s]\u001b[A\n",
            "  0%|          |https://dagshub.com/jorgevc/Gat351M/? [00:06<00:00,    88.4MB/s]\u001b[A\n",
            "  0%|          |https://dagshub.com/jorgevc/Gat359M/? [00:06<00:00,    87.4MB/s]\u001b[A\n",
            "  0%|          |https://dagshub.com/jorgevc/Gat368M/? [00:06<00:00,    89.4MB/s]\u001b[A\n",
            "  0%|          |https://dagshub.com/jorgevc/Gat373M/? [00:07<00:00,    78.2MB/s]\u001b[A\n",
            "  0%|          |https://dagshub.com/jorgevc/Gat384M/? [00:07<00:00,    87.7MB/s]\u001b[A\n",
            "  0%|          |https://dagshub.com/jorgevc/Gat392M/? [00:07<00:00,    85.9MB/s]\u001b[A\n",
            "  0%|          |https://dagshub.com/jorgevc/Gat400M/? [00:07<00:00,    87.1MB/s]\u001b[A\n",
            "  0%|          |https://dagshub.com/jorgevc/Gat405M/? [00:07<00:00,    76.8MB/s]\u001b[A\n",
            "  0%|          |https://dagshub.com/jorgevc/Gat416M/? [00:07<00:00,    85.9MB/s]\u001b[A\n",
            "  0%|          |https://dagshub.com/jorgevc/Gat424M/? [00:07<00:00,    86.2MB/s]\u001b[A\n",
            "  0%|          |https://dagshub.com/jorgevc/Gat434M/? [00:07<00:00,    90.5MB/s]\u001b[A\n",
            "  0%|          |https://dagshub.com/jorgevc/Gat441M/? [00:07<00:00,    84.2MB/s]\u001b[A\n",
            "  0%|          |https://dagshub.com/jorgevc/Gat448M/? [00:07<00:00,    81.8MB/s]\u001b[A\n",
            "  0%|          |https://dagshub.com/jorgevc/Gat456M/? [00:08<00:00,    82.3MB/s]\u001b[A\n",
            "  0%|          |https://dagshub.com/jorgevc/Gat464M/? [00:08<00:00,    82.0MB/s]\u001b[A\n",
            "  0%|          |https://dagshub.com/jorgevc/Gat472M/? [00:08<00:00,    81.0MB/s]\u001b[A\n",
            "  0%|          |https://dagshub.com/jorgevc/Gat480M/? [00:08<00:00,    83.4MB/s]\u001b[A\n",
            "  0%|          |https://dagshub.com/jorgevc/Gat488M/? [00:08<00:00,    82.0MB/s]\u001b[A\n",
            "  0%|          |https://dagshub.com/jorgevc/Gat496M/? [00:08<00:00,    83.6MB/s]\u001b[A\n",
            "  0%|          |https://dagshub.com/jorgevc/Gat504M/? [00:08<00:00,    83.9MB/s]\u001b[A\n",
            "  0%|          |https://dagshub.com/jorgevc/Gat512M/? [00:08<00:00,    82.4MB/s]\u001b[A\n",
            "  0%|          |https://dagshub.com/jorgevc/Gat519M/? [00:08<00:00,    79.2MB/s]\u001b[A\n",
            "  0%|          |https://dagshub.com/jorgevc/Gat527M/? [00:08<00:00,    79.7MB/s]\u001b[A\n",
            "  0%|          |https://dagshub.com/jorgevc/Gat535M/? [00:09<00:00,    80.9MB/s]\u001b[A\n",
            "Downloading DogsCats.zip: 100% 1/1 [00:09<00:00,  9.38s/files{'info': ''}]\n",
            "\u001b[0m"
          ]
        }
      ],
      "source": [
        "!dvc get-url https://dagshub.com/jorgevc/Gatos-y-Perros/raw/24eaabd8ca81ed89f780138c1e3955ccd1f3d155/data/DogsCats.zip # directorio"
      ]
    },
    {
      "cell_type": "code",
      "source": [
        "import zipfile # Zipfile ayuda en descomprimir las carpetas zip\n",
        "with zipfile.ZipFile('DogsCats.zip','r') as zip_ref:\n",
        "  zip_ref.extractall('/content')"
      ],
      "metadata": {
        "id": "Y1n5zJJTTUmj"
      },
      "execution_count": null,
      "outputs": []
    },
    {
      "cell_type": "code",
      "source": [
        "!ls # Para ver los archivos del directorio en el que se está"
      ],
      "metadata": {
        "colab": {
          "base_uri": "https://localhost:8080/"
        },
        "id": "Mmt7miWjyL2f",
        "outputId": "d8dc3479-e5e4-4278-a841-53b6f09d5674"
      },
      "execution_count": null,
      "outputs": [
        {
          "output_type": "stream",
          "name": "stdout",
          "text": [
            "DogsCats.zip  sample_data  test  train\n"
          ]
        }
      ]
    },
    {
      "cell_type": "code",
      "source": [
        "# Imports\n",
        "import comet_ml\n",
        "comet_ml.init(project_name=\"perrosgatos\")\n",
        "\n",
        "import tensorflow as tf\n",
        "from tensorflow import keras\n",
        "from tensorflow.keras.models import Sequential\n",
        "from tensorflow.keras.layers import Dense,Conv2D, Dropout,Activation,MaxPooling2D,Flatten,SpatialDropout2D, Softmax\n",
        "from tensorflow.keras.optimizers import RMSprop, SGD, Adam\n",
        "import tensorflow.keras.regularizers\n",
        "from tensorflow.keras.preprocessing.image import ImageDataGenerator\n",
        "from tensorflow.keras.preprocessing import image\n",
        "from keras.callbacks import ModelCheckpoint\n"
      ],
      "metadata": {
        "colab": {
          "base_uri": "https://localhost:8080/"
        },
        "id": "c6ij0HqiHLEa",
        "outputId": "7bead70a-f954-4be9-b087-239689ea4a7e"
      },
      "execution_count": null,
      "outputs": [
        {
          "name": "stdout",
          "output_type": "stream",
          "text": [
            "Please paste your Comet API key from https://www.comet.com/api/my/settings/\n",
            "(api key may not show as you type)\n",
            "Comet API key: ··········\n"
          ]
        },
        {
          "output_type": "stream",
          "name": "stderr",
          "text": [
            "\u001b[1;38;5;39mCOMET INFO:\u001b[0m Valid Comet API Key saved in /root/.comet.config (set COMET_CONFIG to change where it is saved).\n"
          ]
        }
      ]
    },
    {
      "cell_type": "code",
      "source": [
        "# Graficas en comet\n",
        "experiment = comet_ml.Experiment(\n",
        "    auto_histogram_weight_logging=True,\n",
        "    auto_histogram_gradient_logging=True,\n",
        "    auto_histogram_activation_logging=True,\n",
        "    log_code=True,\n",
        "\n",
        ")\n",
        "experiment.set_name('Experimento_4.6 todos los datos')"
      ],
      "metadata": {
        "colab": {
          "base_uri": "https://localhost:8080/"
        },
        "id": "xb_6DdN8HaRt",
        "outputId": "9fe77150-1cfb-4972-9d39-d1ac84e57959"
      },
      "execution_count": null,
      "outputs": [
        {
          "output_type": "stream",
          "name": "stderr",
          "text": [
            "\u001b[1;38;5;39mCOMET INFO:\u001b[0m ---------------------------------------------------------------------------------------\n",
            "\u001b[1;38;5;39mCOMET INFO:\u001b[0m Comet.ml Experiment Summary\n",
            "\u001b[1;38;5;39mCOMET INFO:\u001b[0m ---------------------------------------------------------------------------------------\n",
            "\u001b[1;38;5;39mCOMET INFO:\u001b[0m   Data:\n",
            "\u001b[1;38;5;39mCOMET INFO:\u001b[0m     display_summary_level : 1\n",
            "\u001b[1;38;5;39mCOMET INFO:\u001b[0m     url                   : https://www.comet.com/nicglowss/perrosgatos/562791f537d149af81ed2d350a0de692\n",
            "\u001b[1;38;5;39mCOMET INFO:\u001b[0m   Others:\n",
            "\u001b[1;38;5;39mCOMET INFO:\u001b[0m     Name : Experimento_4.6 todos los datos\n",
            "\u001b[1;38;5;39mCOMET INFO:\u001b[0m   Uploads:\n",
            "\u001b[1;38;5;39mCOMET INFO:\u001b[0m     environment details : 1\n",
            "\u001b[1;38;5;39mCOMET INFO:\u001b[0m     filename            : 1\n",
            "\u001b[1;38;5;39mCOMET INFO:\u001b[0m     installed packages  : 1\n",
            "\u001b[1;38;5;39mCOMET INFO:\u001b[0m     notebook            : 2\n",
            "\u001b[1;38;5;39mCOMET INFO:\u001b[0m     os packages         : 1\n",
            "\u001b[1;38;5;39mCOMET INFO:\u001b[0m     source_code         : 1\n",
            "\u001b[1;38;5;39mCOMET INFO:\u001b[0m \n",
            "\u001b[1;38;5;214mCOMET WARNING:\u001b[0m As you are running in a Jupyter environment, you will need to call `experiment.end()` when finished to ensure all metrics and code are logged before exiting.\n",
            "\u001b[1;38;5;39mCOMET INFO:\u001b[0m Couldn't find a Git repository in '/content' nor in any parent directory. Set `COMET_GIT_DIRECTORY` if your Git Repository is elsewhere.\n",
            "\u001b[1;38;5;39mCOMET INFO:\u001b[0m Experiment is live on comet.com https://www.comet.com/nicglowss/perrosgatos/4b29ed14b968445684e39d49220e4b9f\n",
            "\n"
          ]
        }
      ]
    },
    {
      "cell_type": "code",
      "source": [
        "# Pre-Procesamiento\n",
        "\n",
        "ih, iw = 150, 150 #tamano de la imagen\n",
        "input_shape = (ih, iw, 3) # alto, largo, rgb\n",
        "\n",
        "train_dir = 'train' #directorio de entrenamiento\n",
        "test_dir = 'test' #directorio de prueba\n",
        "\n",
        "num_class = 2 # no. de clases\n",
        "epochs = 50 # no. de epocas\n",
        "            # por la tarea pasada despues de 50 me da sobreajuste\n",
        "\n",
        "batch_size = 200 # Bajamos el no del batch por tiempo al 50%\n",
        "num_train = 20000 #numero de imagenes en train\n",
        "num_test = 5000 #numero de imagenes en test\n",
        "\n",
        "\n",
        "epoch_steps = num_train // batch_size\n",
        "test_steps = num_test // batch_size\n",
        "\n",
        "\n",
        "gentrain = ImageDataGenerator(rescale=1. / 255., # normalizacion de las imagenes y el escalamiento\n",
        "                              rotation_range=40,\n",
        "                              width_shift_range=0.2,\n",
        "                              height_shift_range=0.2,\n",
        "                              shear_range=0.2,\n",
        "                              zoom_range=0.2,\n",
        "                              horizontal_flip=True,\n",
        "                              fill_mode='nearest')\n",
        "                                                  # Parametros que trabajan con la imagen de forma que se vea\n",
        "                                                  # de distintos puntos y formas\n",
        "\n",
        "train = gentrain.flow_from_directory(train_dir,\n",
        "                batch_size=batch_size,\n",
        "                target_size=(iw, ih),\n",
        "                class_mode='binary')\n",
        "\n",
        "gentest = ImageDataGenerator(rescale=1. / 255)\n",
        "\n",
        "test = gentest.flow_from_directory(test_dir,\n",
        "                batch_size=batch_size,\n",
        "                target_size=(iw, ih),\n",
        "                class_mode='binary')"
      ],
      "metadata": {
        "colab": {
          "base_uri": "https://localhost:8080/"
        },
        "id": "4MmH1VWXHdwn",
        "outputId": "cd99a923-c4da-4c47-bc10-88a1f30d8cbf"
      },
      "execution_count": null,
      "outputs": [
        {
          "output_type": "stream",
          "name": "stdout",
          "text": [
            "Found 20000 images belonging to 2 classes.\n",
            "Found 5000 images belonging to 2 classes.\n"
          ]
        }
      ]
    },
    {
      "cell_type": "code",
      "source": [
        "# Parametros\n",
        "\n",
        "#para cargar pesos de la red desde donde se quedó la ultima vez\n",
        "filename = \"cvsd.h5\"\n",
        "model.load_weights(filename)  #comentar si se comienza desde cero.\n",
        "                              # no funcionó, pidió definir model.\n",
        "### Parametros\n",
        "parameters = {\n",
        "    \"batch_size\": batch_size,\n",
        "    \"epochs\": epochs,\n",
        "    \"optimizer\": 'SGD',\n",
        "    \"loss\": 'binary_crossentropy',\n",
        "}\n",
        "# Arquitectura\n",
        "experiment.log_parameters(parameters)\n",
        "\n",
        "model = Sequential()\n",
        "model.add(Conv2D(128, (3, 3), input_shape=(ih, iw,3),)) #el tamaño del recorte en el cuadrante\n",
        "model.add(Activation('relu'))\n",
        "model.add(MaxPooling2D(pool_size=(2, 2))) # pool-size es el tamaño de cuadrante\n",
        "\n",
        "model.add(Conv2D(64, (3, 3)))\n",
        "model.add(Activation('relu'))\n",
        "model.add(MaxPooling2D(pool_size=(2, 2)))\n",
        "\n",
        "model.add(Conv2D(32, (3, 3)))\n",
        "model.add(Activation('relu'))\n",
        "model.add(MaxPooling2D(pool_size=(2, 2)))\n",
        "\n",
        "model.add(Dropout(0.2)) # Parametro por conveniencia\n",
        "model.add(Flatten())\n",
        "model.add(Dense(256)) # no. de neuronas\n",
        "model.add(Activation('relu'))\n",
        "model.add(Dense(1))\n",
        "model.add(Activation('sigmoid'))\n",
        "\n",
        "\n",
        "model.summary()\n",
        "\n",
        "filepath = \"m_pg_1.hdf5\" # donde se guarda el progreso\n",
        "checkpoint = ModelCheckpoint(filepath, monitor='val_loss', verbose=1, save_best_only=True, mode='min')\n",
        "\n",
        "model.compile(loss=parameters['loss'],\n",
        "              optimizer=parameters['optimizer'],\n",
        "              metrics=['accuracy'])\n",
        "\n",
        "# Metodo de la clase model, model es la arquitectura y el .fit es para el entrenamiento\n",
        "\n",
        "historial= model.fit(\n",
        "              train,\n",
        "              steps_per_epoch=epoch_steps,\n",
        "              epochs=epochs,\n",
        "              validation_data=test,\n",
        "              validation_steps=test_steps,\n",
        "              verbose=1,\n",
        "              callbacks=[checkpoint])\n",
        "\n",
        "experiment.log_model(\"Perros_y_Gatos\", \"m_pg_1.hdf5\")\n",
        "experiment.end()\n",
        "model.save('cvsd.h5')"
      ],
      "metadata": {
        "colab": {
          "base_uri": "https://localhost:8080/",
          "height": 246
        },
        "id": "xDaS50fzPhUu",
        "outputId": "c149c39b-36a4-431f-bd02-c2579f71a529"
      },
      "execution_count": null,
      "outputs": [
        {
          "output_type": "error",
          "ename": "NameError",
          "evalue": "ignored",
          "traceback": [
            "\u001b[0;31m---------------------------------------------------------------------------\u001b[0m",
            "\u001b[0;31mNameError\u001b[0m                                 Traceback (most recent call last)",
            "\u001b[0;32m<ipython-input-1-ecb34beaccf1>\u001b[0m in \u001b[0;36m<cell line: 5>\u001b[0;34m()\u001b[0m\n\u001b[1;32m      3\u001b[0m \u001b[0;31m#para cargar pesos de la red desde donde se quedó la ultima vez\u001b[0m\u001b[0;34m\u001b[0m\u001b[0;34m\u001b[0m\u001b[0m\n\u001b[1;32m      4\u001b[0m \u001b[0mfilename\u001b[0m \u001b[0;34m=\u001b[0m \u001b[0;34m\"cvsd.h5\"\u001b[0m\u001b[0;34m\u001b[0m\u001b[0;34m\u001b[0m\u001b[0m\n\u001b[0;32m----> 5\u001b[0;31m \u001b[0mmodel\u001b[0m\u001b[0;34m.\u001b[0m\u001b[0mload_weights\u001b[0m\u001b[0;34m(\u001b[0m\u001b[0mfilename\u001b[0m\u001b[0;34m)\u001b[0m  \u001b[0;31m#comentar si se comienza desde cero.\u001b[0m\u001b[0;34m\u001b[0m\u001b[0;34m\u001b[0m\u001b[0m\n\u001b[0m\u001b[1;32m      6\u001b[0m \u001b[0;31m###\u001b[0m\u001b[0;34m\u001b[0m\u001b[0;34m\u001b[0m\u001b[0m\n\u001b[1;32m      7\u001b[0m parameters = {\n",
            "\u001b[0;31mNameError\u001b[0m: name 'model' is not defined"
          ]
        }
      ]
    }
  ]
}