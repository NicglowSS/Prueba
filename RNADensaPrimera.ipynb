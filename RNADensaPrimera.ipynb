{
  "nbformat": 4,
  "nbformat_minor": 0,
  "metadata": {
    "colab": {
      "provenance": []
    },
    "kernelspec": {
      "name": "python3",
      "display_name": "Python 3"
    },
    "language_info": {
      "name": "python"
    }
  },
  "cells": [
    {
      "cell_type": "code",
      "execution_count": null,
      "metadata": {
        "id": "rE8PQ6UYFMwt",
        "colab": {
          "base_uri": "https://localhost:8080/"
        },
        "outputId": "074386ea-46f5-4d83-e225-1fbc6ab3eb09"
      },
      "outputs": [
        {
          "output_type": "stream",
          "name": "stdout",
          "text": [
            "Requirement already satisfied: comet_ml in /usr/local/lib/python3.10/dist-packages (3.35.3)\n",
            "Requirement already satisfied: jsonschema!=3.1.0,>=2.6.0 in /usr/local/lib/python3.10/dist-packages (from comet_ml) (4.19.2)\n",
            "Requirement already satisfied: psutil>=5.6.3 in /usr/local/lib/python3.10/dist-packages (from comet_ml) (5.9.5)\n",
            "Requirement already satisfied: python-box<7.0.0 in /usr/local/lib/python3.10/dist-packages (from comet_ml) (6.1.0)\n",
            "Requirement already satisfied: requests-toolbelt>=0.8.0 in /usr/local/lib/python3.10/dist-packages (from comet_ml) (1.0.0)\n",
            "Requirement already satisfied: requests>=2.18.4 in /usr/local/lib/python3.10/dist-packages (from comet_ml) (2.31.0)\n",
            "Requirement already satisfied: semantic-version>=2.8.0 in /usr/local/lib/python3.10/dist-packages (from comet_ml) (2.10.0)\n",
            "Requirement already satisfied: sentry-sdk>=1.1.0 in /usr/local/lib/python3.10/dist-packages (from comet_ml) (1.37.1)\n",
            "Requirement already satisfied: simplejson in /usr/local/lib/python3.10/dist-packages (from comet_ml) (3.19.2)\n",
            "Requirement already satisfied: six in /usr/local/lib/python3.10/dist-packages (from comet_ml) (1.16.0)\n",
            "Requirement already satisfied: urllib3>=1.21.1 in /usr/local/lib/python3.10/dist-packages (from comet_ml) (2.0.7)\n",
            "Requirement already satisfied: websocket-client<1.4.0,>=0.55.0 in /usr/local/lib/python3.10/dist-packages (from comet_ml) (1.3.3)\n",
            "Requirement already satisfied: wrapt>=1.11.2 in /usr/local/lib/python3.10/dist-packages (from comet_ml) (1.14.1)\n",
            "Requirement already satisfied: wurlitzer>=1.0.2 in /usr/local/lib/python3.10/dist-packages (from comet_ml) (3.0.3)\n",
            "Requirement already satisfied: everett[ini]<3.2.0,>=1.0.1 in /usr/local/lib/python3.10/dist-packages (from comet_ml) (3.1.0)\n",
            "Requirement already satisfied: dulwich!=0.20.33,>=0.20.6 in /usr/local/lib/python3.10/dist-packages (from comet_ml) (0.21.6)\n",
            "Requirement already satisfied: rich>=13.3.2 in /usr/local/lib/python3.10/dist-packages (from comet_ml) (13.7.0)\n",
            "Requirement already satisfied: configobj in /usr/local/lib/python3.10/dist-packages (from everett[ini]<3.2.0,>=1.0.1->comet_ml) (5.0.8)\n",
            "Requirement already satisfied: attrs>=22.2.0 in /usr/local/lib/python3.10/dist-packages (from jsonschema!=3.1.0,>=2.6.0->comet_ml) (23.1.0)\n",
            "Requirement already satisfied: jsonschema-specifications>=2023.03.6 in /usr/local/lib/python3.10/dist-packages (from jsonschema!=3.1.0,>=2.6.0->comet_ml) (2023.11.1)\n",
            "Requirement already satisfied: referencing>=0.28.4 in /usr/local/lib/python3.10/dist-packages (from jsonschema!=3.1.0,>=2.6.0->comet_ml) (0.31.0)\n",
            "Requirement already satisfied: rpds-py>=0.7.1 in /usr/local/lib/python3.10/dist-packages (from jsonschema!=3.1.0,>=2.6.0->comet_ml) (0.13.0)\n",
            "Requirement already satisfied: charset-normalizer<4,>=2 in /usr/local/lib/python3.10/dist-packages (from requests>=2.18.4->comet_ml) (3.3.2)\n",
            "Requirement already satisfied: idna<4,>=2.5 in /usr/local/lib/python3.10/dist-packages (from requests>=2.18.4->comet_ml) (3.4)\n",
            "Requirement already satisfied: certifi>=2017.4.17 in /usr/local/lib/python3.10/dist-packages (from requests>=2.18.4->comet_ml) (2023.7.22)\n",
            "Requirement already satisfied: markdown-it-py>=2.2.0 in /usr/local/lib/python3.10/dist-packages (from rich>=13.3.2->comet_ml) (3.0.0)\n",
            "Requirement already satisfied: pygments<3.0.0,>=2.13.0 in /usr/local/lib/python3.10/dist-packages (from rich>=13.3.2->comet_ml) (2.16.1)\n",
            "Requirement already satisfied: mdurl~=0.1 in /usr/local/lib/python3.10/dist-packages (from markdown-it-py>=2.2.0->rich>=13.3.2->comet_ml) (0.1.2)\n"
          ]
        }
      ],
      "source": [
        "%pip install comet_ml #libreria a instalar"
      ]
    },
    {
      "cell_type": "code",
      "source": [
        "import comet_ml\n",
        "comet_ml.init(project_name=\"RNA_Densa_Primera\") #nombre a dar al experimento"
      ],
      "metadata": {
        "id": "qm56j113FjRP"
      },
      "execution_count": null,
      "outputs": []
    },
    {
      "cell_type": "code",
      "source": [
        "# Imports\n",
        "import tensorflow as tf\n",
        "from tensorflow import keras\n",
        "from tensorflow.keras.datasets import mnist #base de datos\n",
        "from tensorflow.keras.models import Sequential # checar cada uno de los que faltan\n",
        "from tensorflow.keras.layers import Dense, Dropout, Activation, Flatten, Input\n",
        "from tensorflow.keras.optimizers import RMSprop, SGD\n",
        "from tensorflow.keras import regularizers\n",
        "from keras.callbacks import ModelCheckpoint # sirve para dar respuesta del proceso de entrenamiento de la red"
      ],
      "metadata": {
        "id": "czgl5_6tA7Pe"
      },
      "execution_count": null,
      "outputs": []
    },
    {
      "cell_type": "code",
      "source": [
        "experiment = comet_ml.Experiment(  # Para activar las Graficaciones en comet\n",
        "    auto_histogram_weight_logging=True,\n",
        "    auto_histogram_gradient_logging=True,\n",
        "    auto_histogram_activation_logging=True,\n",
        "    log_code=True, # para subir el codigo a comet para no perder el progreso\n",
        ")"
      ],
      "metadata": {
        "colab": {
          "base_uri": "https://localhost:8080/"
        },
        "id": "j__tspO4BGYR",
        "outputId": "de1ca924-3792-421a-e9f2-efc1d18a1ae5"
      },
      "execution_count": null,
      "outputs": [
        {
          "output_type": "stream",
          "name": "stderr",
          "text": [
            "\u001b[1;38;5;39mCOMET INFO:\u001b[0m ---------------------------------------------------------------------------------------\n",
            "\u001b[1;38;5;39mCOMET INFO:\u001b[0m Comet.ml Experiment Summary\n",
            "\u001b[1;38;5;39mCOMET INFO:\u001b[0m ---------------------------------------------------------------------------------------\n",
            "\u001b[1;38;5;39mCOMET INFO:\u001b[0m   Data:\n",
            "\u001b[1;38;5;39mCOMET INFO:\u001b[0m     display_summary_level : 1\n",
            "\u001b[1;38;5;39mCOMET INFO:\u001b[0m     url                   : https://www.comet.com/nicglowss/rna-densa-primera/c9d589ea27524f83a5846f7d23795287\n",
            "\u001b[1;38;5;39mCOMET INFO:\u001b[0m   Parameters:\n",
            "\u001b[1;38;5;39mCOMET INFO:\u001b[0m     batch_size : 10\n",
            "\u001b[1;38;5;39mCOMET INFO:\u001b[0m     epochs     : 30\n",
            "\u001b[1;38;5;39mCOMET INFO:\u001b[0m     loss       : categorical_crossentropy\n",
            "\u001b[1;38;5;39mCOMET INFO:\u001b[0m     optimizer  : SGD\n",
            "\u001b[1;38;5;39mCOMET INFO:\u001b[0m   Uploads:\n",
            "\u001b[1;38;5;39mCOMET INFO:\u001b[0m     environment details : 1\n",
            "\u001b[1;38;5;39mCOMET INFO:\u001b[0m     filename            : 1\n",
            "\u001b[1;38;5;39mCOMET INFO:\u001b[0m     installed packages  : 1\n",
            "\u001b[1;38;5;39mCOMET INFO:\u001b[0m     notebook            : 2\n",
            "\u001b[1;38;5;39mCOMET INFO:\u001b[0m     os packages         : 1\n",
            "\u001b[1;38;5;39mCOMET INFO:\u001b[0m     source_code         : 1\n",
            "\u001b[1;38;5;39mCOMET INFO:\u001b[0m \n",
            "\u001b[1;38;5;214mCOMET WARNING:\u001b[0m As you are running in a Jupyter environment, you will need to call `experiment.end()` when finished to ensure all metrics and code are logged before exiting.\n",
            "\u001b[1;38;5;39mCOMET INFO:\u001b[0m Couldn't find a Git repository in '/content' nor in any parent directory. Set `COMET_GIT_DIRECTORY` if your Git Repository is elsewhere.\n",
            "\u001b[1;38;5;39mCOMET INFO:\u001b[0m Experiment is live on comet.com https://www.comet.com/nicglowss/rna-densa-primera/016f804e079b4a858eab944236d7dc2f\n",
            "\n"
          ]
        }
      ]
    },
    {
      "cell_type": "code",
      "source": [
        "# pre-procesamiento\n",
        "dataset=mnist.load_data()# en el dataset se guardan todas las imagenes del mnist con sus etiquetas\n",
        "(x_train, y_train), (x_test, y_test) = dataset\n",
        "\n",
        "# se van a guardar en el forato de binario\n",
        "x_train = x_train.astype('float32')\n",
        "x_test = x_test.astype('float32')\n",
        "\n",
        "# numero de pixeles normalizando el no. de pixeles\n",
        "x_train /= 255  # x_trainv = x_trainv/255\n",
        "x_test /= 255\n",
        "\n",
        "#clasificacion de clases\n",
        "num_classes=10\n",
        "y_trainc = keras.utils.to_categorical(y_train, num_classes) #analiza los datos y los acomoda en las distintas clases\n",
        "y_testc = keras.utils.to_categorical(y_test, num_classes)"
      ],
      "metadata": {
        "id": "qJNeAdHbBUM-"
      },
      "execution_count": null,
      "outputs": []
    },
    {
      "cell_type": "code",
      "source": [
        "# Parametros\n",
        "parameters = {\n",
        "    \"batch_size\": 10,\n",
        "    \"epochs\": 30,\n",
        "    \"optimizer\": \"SGD\",\n",
        "    \"loss\": \"categorical_crossentropy\",\n",
        "}\n",
        "\n",
        "experiment.log_parameters(parameters) # diccionario subido a comet"
      ],
      "metadata": {
        "id": "zbiaW1VkBHH6"
      },
      "execution_count": null,
      "outputs": []
    },
    {
      "cell_type": "code",
      "source": [
        "# Arquitetura de la red\n",
        "model = Sequential()\n",
        "# aqui empezamos\n",
        "model.add(Input(shape=(28,28))) #Flaten no tiene la opcion input_shape por lo tanto se tiene que agregar esta capa\n",
        "                                #28x28 es el tamaño de la imagen\n",
        "model.add(Flatten()) #Otra forma de aplanar las imagenes, las forma en una linea\n",
        "model.add(Dense(784, activation='sigmoid')) # esta es la capa densa de no neuronas de forma vertical (en este caso agarramos el total de pixeles)\n",
        "                                            # su funcion de activacion es la sigmoide (respuesta de la neurona de 0 a 1)\n",
        "                                            # Estas dos son las principales\n",
        "\n",
        "model.add(Dense(10, activation='softmax'))  # son las de salida literal porque estan al final\n",
        "\n",
        "model.summary()"
      ],
      "metadata": {
        "colab": {
          "base_uri": "https://localhost:8080/"
        },
        "id": "GUl8whP1BOdy",
        "outputId": "9cc9bbca-7a10-4a56-b5ed-dee1c3c81ed9"
      },
      "execution_count": null,
      "outputs": [
        {
          "output_type": "stream",
          "name": "stdout",
          "text": [
            "Model: \"sequential_2\"\n",
            "_________________________________________________________________\n",
            " Layer (type)                Output Shape              Param #   \n",
            "=================================================================\n",
            " flatten_2 (Flatten)         (None, 784)               0         \n",
            "                                                                 \n",
            " dense_4 (Dense)             (None, 784)               615440    \n",
            "                                                                 \n",
            " dense_5 (Dense)             (None, 10)                7850      \n",
            "                                                                 \n",
            "=================================================================\n",
            "Total params: 623290 (2.38 MB)\n",
            "Trainable params: 623290 (2.38 MB)\n",
            "Non-trainable params: 0 (0.00 Byte)\n",
            "_________________________________________________________________\n"
          ]
        }
      ]
    },
    {
      "cell_type": "code",
      "source": [
        "# specify the path where you want to save the model\n",
        "filepath = \"mejor-modelo1.1.hdf5\"\n",
        "\n",
        "# initialize the ModelCheckpoint callback\n",
        "checkpoint = ModelCheckpoint(filepath, monitor='val_loss', verbose=1, save_best_only=True, mode='min')"
      ],
      "metadata": {
        "id": "yickXqeNHaGo"
      },
      "execution_count": null,
      "outputs": []
    },
    {
      "cell_type": "code",
      "source": [
        "# Inicia el entrenamiento de la red\n",
        "model.compile(loss=parameters['loss'],optimizer=SGD(learning_rate=0.1,ema_momentum=0.9),metrics=['accuracy'])\n",
        "model.fit(x_train, y_trainc,\n",
        "                    batch_size=parameters['batch_size'],\n",
        "                    epochs=parameters[\"epochs\"],\n",
        "                    verbose=1,\n",
        "                    validation_data=(x_test, y_testc),\n",
        "                    callbacks=[checkpoint])"
      ],
      "metadata": {
        "colab": {
          "base_uri": "https://localhost:8080/"
        },
        "id": "RipmZnRwEznJ",
        "outputId": "a523c801-2c32-4935-8ac0-8dc141b7b69e"
      },
      "execution_count": null,
      "outputs": [
        {
          "output_type": "stream",
          "name": "stderr",
          "text": [
            "\u001b[1;38;5;39mCOMET INFO:\u001b[0m Ignoring automatic log_parameter('verbose') because 'keras:verbose' is in COMET_LOGGING_PARAMETERS_IGNORE\n"
          ]
        },
        {
          "output_type": "stream",
          "name": "stdout",
          "text": [
            "Epoch 1/30\n",
            "5988/6000 [============================>.] - ETA: 0s - loss: 0.4304 - accuracy: 0.8737\n",
            "Epoch 1: val_loss improved from inf to 0.26707, saving model to mejor-modelo1.1.hdf5\n",
            "6000/6000 [==============================] - 33s 5ms/step - loss: 0.4300 - accuracy: 0.8738 - val_loss: 0.2671 - val_accuracy: 0.9210\n",
            "Epoch 2/30\n",
            "   1/6000 [..............................] - ETA: 53s - loss: 0.7038 - accuracy: 0.8000"
          ]
        },
        {
          "output_type": "stream",
          "name": "stderr",
          "text": [
            "/usr/local/lib/python3.10/dist-packages/keras/src/engine/training.py:3079: UserWarning: You are saving your model as an HDF5 file via `model.save()`. This file format is considered legacy. We recommend using instead the native Keras format, e.g. `model.save('my_model.keras')`.\n",
            "  saving_api.save_model(\n"
          ]
        },
        {
          "output_type": "stream",
          "name": "stdout",
          "text": [
            "5995/6000 [============================>.] - ETA: 0s - loss: 0.2467 - accuracy: 0.9276\n",
            "Epoch 2: val_loss improved from 0.26707 to 0.20705, saving model to mejor-modelo1.1.hdf5\n",
            "6000/6000 [==============================] - 31s 5ms/step - loss: 0.2466 - accuracy: 0.9277 - val_loss: 0.2070 - val_accuracy: 0.9415\n",
            "Epoch 3/30\n",
            "5998/6000 [============================>.] - ETA: 0s - loss: 0.1821 - accuracy: 0.9470\n",
            "Epoch 3: val_loss improved from 0.20705 to 0.15493, saving model to mejor-modelo1.1.hdf5\n",
            "6000/6000 [==============================] - 29s 5ms/step - loss: 0.1822 - accuracy: 0.9470 - val_loss: 0.1549 - val_accuracy: 0.9544\n",
            "Epoch 4/30\n",
            "5993/6000 [============================>.] - ETA: 0s - loss: 0.1425 - accuracy: 0.9590\n",
            "Epoch 4: val_loss improved from 0.15493 to 0.12789, saving model to mejor-modelo1.1.hdf5\n",
            "6000/6000 [==============================] - 31s 5ms/step - loss: 0.1425 - accuracy: 0.9590 - val_loss: 0.1279 - val_accuracy: 0.9626\n",
            "Epoch 5/30\n",
            "5995/6000 [============================>.] - ETA: 0s - loss: 0.1168 - accuracy: 0.9659\n",
            "Epoch 5: val_loss improved from 0.12789 to 0.12016, saving model to mejor-modelo1.1.hdf5\n",
            "6000/6000 [==============================] - 27s 4ms/step - loss: 0.1167 - accuracy: 0.9659 - val_loss: 0.1202 - val_accuracy: 0.9639\n",
            "Epoch 6/30\n",
            "5987/6000 [============================>.] - ETA: 0s - loss: 0.0991 - accuracy: 0.9708\n",
            "Epoch 6: val_loss improved from 0.12016 to 0.10167, saving model to mejor-modelo1.1.hdf5\n",
            "6000/6000 [==============================] - 28s 5ms/step - loss: 0.0992 - accuracy: 0.9708 - val_loss: 0.1017 - val_accuracy: 0.9694\n",
            "Epoch 7/30\n",
            "5991/6000 [============================>.] - ETA: 0s - loss: 0.0848 - accuracy: 0.9757\n",
            "Epoch 7: val_loss improved from 0.10167 to 0.09219, saving model to mejor-modelo1.1.hdf5\n",
            "6000/6000 [==============================] - 31s 5ms/step - loss: 0.0849 - accuracy: 0.9757 - val_loss: 0.0922 - val_accuracy: 0.9710\n",
            "Epoch 8/30\n",
            "5995/6000 [============================>.] - ETA: 0s - loss: 0.0741 - accuracy: 0.9786\n",
            "Epoch 8: val_loss improved from 0.09219 to 0.08958, saving model to mejor-modelo1.1.hdf5\n",
            "6000/6000 [==============================] - 31s 5ms/step - loss: 0.0741 - accuracy: 0.9787 - val_loss: 0.0896 - val_accuracy: 0.9732\n",
            "Epoch 9/30\n",
            "5991/6000 [============================>.] - ETA: 0s - loss: 0.0650 - accuracy: 0.9808\n",
            "Epoch 9: val_loss improved from 0.08958 to 0.07956, saving model to mejor-modelo1.1.hdf5\n",
            "6000/6000 [==============================] - 30s 5ms/step - loss: 0.0650 - accuracy: 0.9808 - val_loss: 0.0796 - val_accuracy: 0.9750\n",
            "Epoch 10/30\n",
            "5995/6000 [============================>.] - ETA: 0s - loss: 0.0580 - accuracy: 0.9830\n",
            "Epoch 10: val_loss did not improve from 0.07956\n",
            "6000/6000 [==============================] - 29s 5ms/step - loss: 0.0580 - accuracy: 0.9830 - val_loss: 0.0835 - val_accuracy: 0.9740\n",
            "Epoch 11/30\n",
            "5994/6000 [============================>.] - ETA: 0s - loss: 0.0513 - accuracy: 0.9850\n",
            "Epoch 11: val_loss improved from 0.07956 to 0.07458, saving model to mejor-modelo1.1.hdf5\n",
            "6000/6000 [==============================] - 27s 5ms/step - loss: 0.0513 - accuracy: 0.9850 - val_loss: 0.0746 - val_accuracy: 0.9770\n",
            "Epoch 12/30\n",
            "5987/6000 [============================>.] - ETA: 0s - loss: 0.0464 - accuracy: 0.9866\n",
            "Epoch 12: val_loss improved from 0.07458 to 0.06987, saving model to mejor-modelo1.1.hdf5\n",
            "6000/6000 [==============================] - 31s 5ms/step - loss: 0.0463 - accuracy: 0.9866 - val_loss: 0.0699 - val_accuracy: 0.9787\n",
            "Epoch 13/30\n",
            "5998/6000 [============================>.] - ETA: 0s - loss: 0.0415 - accuracy: 0.9881\n",
            "Epoch 13: val_loss did not improve from 0.06987\n",
            "6000/6000 [==============================] - 31s 5ms/step - loss: 0.0414 - accuracy: 0.9881 - val_loss: 0.0708 - val_accuracy: 0.9780\n",
            "Epoch 14/30\n",
            "5990/6000 [============================>.] - ETA: 0s - loss: 0.0373 - accuracy: 0.9897\n",
            "Epoch 14: val_loss improved from 0.06987 to 0.06625, saving model to mejor-modelo1.1.hdf5\n",
            "6000/6000 [==============================] - 31s 5ms/step - loss: 0.0372 - accuracy: 0.9897 - val_loss: 0.0663 - val_accuracy: 0.9806\n",
            "Epoch 15/30\n",
            "5994/6000 [============================>.] - ETA: 0s - loss: 0.0337 - accuracy: 0.9907\n",
            "Epoch 15: val_loss improved from 0.06625 to 0.06501, saving model to mejor-modelo1.1.hdf5\n",
            "6000/6000 [==============================] - 32s 5ms/step - loss: 0.0337 - accuracy: 0.9907 - val_loss: 0.0650 - val_accuracy: 0.9791\n",
            "Epoch 16/30\n",
            "5991/6000 [============================>.] - ETA: 0s - loss: 0.0300 - accuracy: 0.9923\n",
            "Epoch 16: val_loss did not improve from 0.06501\n",
            "6000/6000 [==============================] - 36s 6ms/step - loss: 0.0300 - accuracy: 0.9923 - val_loss: 0.0657 - val_accuracy: 0.9787\n",
            "Epoch 17/30\n",
            "5999/6000 [============================>.] - ETA: 0s - loss: 0.0275 - accuracy: 0.9930\n",
            "Epoch 17: val_loss improved from 0.06501 to 0.06365, saving model to mejor-modelo1.1.hdf5\n",
            "6000/6000 [==============================] - 31s 5ms/step - loss: 0.0275 - accuracy: 0.9930 - val_loss: 0.0637 - val_accuracy: 0.9797\n",
            "Epoch 18/30\n",
            "5997/6000 [============================>.] - ETA: 0s - loss: 0.0249 - accuracy: 0.9942\n",
            "Epoch 18: val_loss improved from 0.06365 to 0.06356, saving model to mejor-modelo1.1.hdf5\n",
            "6000/6000 [==============================] - 29s 5ms/step - loss: 0.0249 - accuracy: 0.9942 - val_loss: 0.0636 - val_accuracy: 0.9796\n",
            "Epoch 19/30\n",
            "5992/6000 [============================>.] - ETA: 0s - loss: 0.0226 - accuracy: 0.9947\n",
            "Epoch 19: val_loss improved from 0.06356 to 0.06219, saving model to mejor-modelo1.1.hdf5\n",
            "6000/6000 [==============================] - 26s 4ms/step - loss: 0.0226 - accuracy: 0.9947 - val_loss: 0.0622 - val_accuracy: 0.9812\n",
            "Epoch 20/30\n",
            "5994/6000 [============================>.] - ETA: 0s - loss: 0.0203 - accuracy: 0.9954\n",
            "Epoch 20: val_loss did not improve from 0.06219\n",
            "6000/6000 [==============================] - 28s 5ms/step - loss: 0.0203 - accuracy: 0.9954 - val_loss: 0.0629 - val_accuracy: 0.9806\n",
            "Epoch 21/30\n",
            "5998/6000 [============================>.] - ETA: 0s - loss: 0.0185 - accuracy: 0.9962\n",
            "Epoch 21: val_loss did not improve from 0.06219\n",
            "6000/6000 [==============================] - 36s 6ms/step - loss: 0.0185 - accuracy: 0.9962 - val_loss: 0.0623 - val_accuracy: 0.9803\n",
            "Epoch 22/30\n",
            "5996/6000 [============================>.] - ETA: 0s - loss: 0.0170 - accuracy: 0.9969\n",
            "Epoch 22: val_loss improved from 0.06219 to 0.05958, saving model to mejor-modelo1.1.hdf5\n",
            "6000/6000 [==============================] - 36s 6ms/step - loss: 0.0170 - accuracy: 0.9969 - val_loss: 0.0596 - val_accuracy: 0.9807\n",
            "Epoch 23/30\n",
            "5993/6000 [============================>.] - ETA: 0s - loss: 0.0156 - accuracy: 0.9971\n",
            "Epoch 23: val_loss did not improve from 0.05958\n",
            "6000/6000 [==============================] - 31s 5ms/step - loss: 0.0156 - accuracy: 0.9971 - val_loss: 0.0627 - val_accuracy: 0.9800\n",
            "Epoch 24/30\n",
            "5998/6000 [============================>.] - ETA: 0s - loss: 0.0143 - accuracy: 0.9975\n",
            "Epoch 24: val_loss did not improve from 0.05958\n",
            "6000/6000 [==============================] - 36s 6ms/step - loss: 0.0143 - accuracy: 0.9975 - val_loss: 0.0612 - val_accuracy: 0.9803\n",
            "Epoch 25/30\n",
            "5994/6000 [============================>.] - ETA: 0s - loss: 0.0131 - accuracy: 0.9979\n",
            "Epoch 25: val_loss did not improve from 0.05958\n",
            "6000/6000 [==============================] - 32s 5ms/step - loss: 0.0130 - accuracy: 0.9979 - val_loss: 0.0601 - val_accuracy: 0.9805\n",
            "Epoch 26/30\n",
            "6000/6000 [==============================] - ETA: 0s - loss: 0.0119 - accuracy: 0.9983\n",
            "Epoch 26: val_loss improved from 0.05958 to 0.05911, saving model to mejor-modelo1.1.hdf5\n",
            "6000/6000 [==============================] - 37s 6ms/step - loss: 0.0119 - accuracy: 0.9983 - val_loss: 0.0591 - val_accuracy: 0.9814\n",
            "Epoch 27/30\n",
            "5999/6000 [============================>.] - ETA: 0s - loss: 0.0110 - accuracy: 0.9985\n",
            "Epoch 27: val_loss did not improve from 0.05911\n",
            "6000/6000 [==============================] - 34s 6ms/step - loss: 0.0110 - accuracy: 0.9985 - val_loss: 0.0604 - val_accuracy: 0.9805\n",
            "Epoch 28/30\n",
            "5991/6000 [============================>.] - ETA: 0s - loss: 0.0101 - accuracy: 0.9989\n",
            "Epoch 28: val_loss did not improve from 0.05911\n",
            "6000/6000 [==============================] - 34s 6ms/step - loss: 0.0101 - accuracy: 0.9989 - val_loss: 0.0598 - val_accuracy: 0.9811\n",
            "Epoch 29/30\n",
            "5991/6000 [============================>.] - ETA: 0s - loss: 0.0093 - accuracy: 0.9990\n",
            "Epoch 29: val_loss did not improve from 0.05911\n",
            "6000/6000 [==============================] - 34s 6ms/step - loss: 0.0093 - accuracy: 0.9990 - val_loss: 0.0595 - val_accuracy: 0.9811\n",
            "Epoch 30/30\n",
            "5993/6000 [============================>.] - ETA: 0s - loss: 0.0088 - accuracy: 0.9991\n",
            "Epoch 30: val_loss did not improve from 0.05911\n",
            "6000/6000 [==============================] - 35s 6ms/step - loss: 0.0088 - accuracy: 0.9991 - val_loss: 0.0603 - val_accuracy: 0.9807\n"
          ]
        },
        {
          "output_type": "execute_result",
          "data": {
            "text/plain": [
              "<keras.src.callbacks.History at 0x79feec9b7910>"
            ]
          },
          "metadata": {},
          "execution_count": 24
        }
      ]
    },
    {
      "cell_type": "code",
      "source": [
        "experiment.log_model(\"MNIST1\", \"mejor-modelo1.1.hdf5\")"
      ],
      "metadata": {
        "id": "-onR7D9SK9FN",
        "colab": {
          "base_uri": "https://localhost:8080/"
        },
        "outputId": "20325144-7dfe-4b4f-8d5e-200e6b105956"
      },
      "execution_count": null,
      "outputs": [
        {
          "output_type": "execute_result",
          "data": {
            "text/plain": [
              "{'web': 'https://www.comet.com/api/asset/download?assetId=4c2a73bc95b2487a9793651a3319a235&experimentKey=016f804e079b4a858eab944236d7dc2f',\n",
              " 'api': 'https://www.comet.com/api/rest/v2/experiment/asset/get-asset?assetId=4c2a73bc95b2487a9793651a3319a235&experimentKey=016f804e079b4a858eab944236d7dc2f',\n",
              " 'assetId': '4c2a73bc95b2487a9793651a3319a235'}"
            ]
          },
          "metadata": {},
          "execution_count": 25
        }
      ]
    },
    {
      "cell_type": "code",
      "source": [
        "experiment.end()"
      ],
      "metadata": {
        "colab": {
          "base_uri": "https://localhost:8080/"
        },
        "id": "aGoU0WClHoJJ",
        "outputId": "93def70f-e45a-426f-df04-5c8e12d9a548"
      },
      "execution_count": null,
      "outputs": [
        {
          "output_type": "stream",
          "name": "stderr",
          "text": [
            "\u001b[1;38;5;39mCOMET INFO:\u001b[0m ---------------------------------------------------------------------------------------\n",
            "\u001b[1;38;5;39mCOMET INFO:\u001b[0m Comet.ml Experiment Summary\n",
            "\u001b[1;38;5;39mCOMET INFO:\u001b[0m ---------------------------------------------------------------------------------------\n",
            "\u001b[1;38;5;39mCOMET INFO:\u001b[0m   Data:\n",
            "\u001b[1;38;5;39mCOMET INFO:\u001b[0m     display_summary_level : 1\n",
            "\u001b[1;38;5;39mCOMET INFO:\u001b[0m     url                   : https://www.comet.com/nicglowss/rna-densa-primera/016f804e079b4a858eab944236d7dc2f\n",
            "\u001b[1;38;5;39mCOMET INFO:\u001b[0m   Metrics [count] (min, max):\n",
            "\u001b[1;38;5;39mCOMET INFO:\u001b[0m     accuracy [30]                  : (0.8737833499908447, 0.9991333484649658)\n",
            "\u001b[1;38;5;39mCOMET INFO:\u001b[0m     batch_accuracy [18000]         : (0.0, 1.0)\n",
            "\u001b[1;38;5;39mCOMET INFO:\u001b[0m     batch_loss [18000]             : (0.00019927509129047394, 5.7957329750061035)\n",
            "\u001b[1;38;5;39mCOMET INFO:\u001b[0m     epoch_duration [30]            : (26.240303262999873, 37.187145596000164)\n",
            "\u001b[1;38;5;39mCOMET INFO:\u001b[0m     loss [30]                      : (0.008802610449492931, 0.43003717064857483)\n",
            "\u001b[1;38;5;39mCOMET INFO:\u001b[0m     val_accuracy [30]              : (0.9210000038146973, 0.9814000129699707)\n",
            "\u001b[1;38;5;39mCOMET INFO:\u001b[0m     val_loss [30]                  : (0.05910704284906387, 0.26706963777542114)\n",
            "\u001b[1;38;5;39mCOMET INFO:\u001b[0m     validate_batch_accuracy [3000] : (0.8933649063110352, 1.0)\n",
            "\u001b[1;38;5;39mCOMET INFO:\u001b[0m     validate_batch_loss [3000]     : (0.007604591082781553, 0.4958088994026184)\n",
            "\u001b[1;38;5;39mCOMET INFO:\u001b[0m   Others:\n",
            "\u001b[1;38;5;39mCOMET INFO:\u001b[0m     trainable_params : 623290\n",
            "\u001b[1;38;5;39mCOMET INFO:\u001b[0m   Parameters:\n",
            "\u001b[1;38;5;39mCOMET INFO:\u001b[0m     Optimizer                   : SGD\n",
            "\u001b[1;38;5;39mCOMET INFO:\u001b[0m     SGD_clipnorm                : None\n",
            "\u001b[1;38;5;39mCOMET INFO:\u001b[0m     SGD_clipvalue               : None\n",
            "\u001b[1;38;5;39mCOMET INFO:\u001b[0m     SGD_ema_momentum            : 0.9\n",
            "\u001b[1;38;5;39mCOMET INFO:\u001b[0m     SGD_ema_overwrite_frequency : None\n",
            "\u001b[1;38;5;39mCOMET INFO:\u001b[0m     SGD_global_clipnorm         : None\n",
            "\u001b[1;38;5;39mCOMET INFO:\u001b[0m     SGD_is_legacy_optimizer     : False\n",
            "\u001b[1;38;5;39mCOMET INFO:\u001b[0m     SGD_jit_compile             : False\n",
            "\u001b[1;38;5;39mCOMET INFO:\u001b[0m     SGD_learning_rate           : 0.10000000149011612\n",
            "\u001b[1;38;5;39mCOMET INFO:\u001b[0m     SGD_momentum                : 0.0\n",
            "\u001b[1;38;5;39mCOMET INFO:\u001b[0m     SGD_name                    : SGD\n",
            "\u001b[1;38;5;39mCOMET INFO:\u001b[0m     SGD_nesterov                : False\n",
            "\u001b[1;38;5;39mCOMET INFO:\u001b[0m     SGD_use_ema                 : False\n",
            "\u001b[1;38;5;39mCOMET INFO:\u001b[0m     SGD_weight_decay            : None\n",
            "\u001b[1;38;5;39mCOMET INFO:\u001b[0m     batch_size                  : 10\n",
            "\u001b[1;38;5;39mCOMET INFO:\u001b[0m     epochs                      : 30\n",
            "\u001b[1;38;5;39mCOMET INFO:\u001b[0m     loss                        : categorical_crossentropy\n",
            "\u001b[1;38;5;39mCOMET INFO:\u001b[0m     optimizer                   : SGD\n",
            "\u001b[1;38;5;39mCOMET INFO:\u001b[0m     steps                       : 6000\n",
            "\u001b[1;38;5;39mCOMET INFO:\u001b[0m   Uploads:\n",
            "\u001b[1;38;5;39mCOMET INFO:\u001b[0m     environment details : 1\n",
            "\u001b[1;38;5;39mCOMET INFO:\u001b[0m     filename            : 1\n",
            "\u001b[1;38;5;39mCOMET INFO:\u001b[0m     histogram3d         : 217\n",
            "\u001b[1;38;5;39mCOMET INFO:\u001b[0m     installed packages  : 1\n",
            "\u001b[1;38;5;39mCOMET INFO:\u001b[0m     model graph         : 1\n",
            "\u001b[1;38;5;39mCOMET INFO:\u001b[0m     model-element       : 1 (4.78 MB)\n",
            "\u001b[1;38;5;39mCOMET INFO:\u001b[0m     notebook            : 2\n",
            "\u001b[1;38;5;39mCOMET INFO:\u001b[0m     os packages         : 1\n",
            "\u001b[1;38;5;39mCOMET INFO:\u001b[0m     source_code         : 1\n",
            "\u001b[1;38;5;39mCOMET INFO:\u001b[0m \n"
          ]
        }
      ]
    }
  ]
}